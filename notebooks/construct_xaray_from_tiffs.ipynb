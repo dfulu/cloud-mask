{
 "cells": [
  {
   "cell_type": "code",
   "execution_count": 1,
   "id": "75ef9f5f-1730-4063-bb64-c27226ed9d28",
   "metadata": {},
   "outputs": [],
   "source": [
    "import dask\n",
    "import xarray as xr\n",
    "from dask.array import image\n",
    "import pandas as pd\n",
    "import numpy as np\n",
    "from tqdm import tqdm\n",
    "import pickle"
   ]
  },
  {
   "cell_type": "code",
   "execution_count": null,
   "id": "5fa2b6f4-a883-48ff-9ae3-aa50824d391e",
   "metadata": {
    "tags": []
   },
   "outputs": [],
   "source": [
    "def add_coord(dataset, value, name):\n",
    "    c = xr.DataArray(value, dims=['chip_id'], coords=[dataset.chip_id], name=name)\n",
    "    return dataset.assign_coords({name:c})\n",
    "\n",
    "\n",
    "def get_dataset_pc(n=None):\n",
    "    df = pd.read_csv(\"/driven-data/cloud-cover/train_metadata.csv\").iloc[:n]\n",
    "    xy = np.arange(512)\n",
    "    band = ['B02', 'B03', 'B04', 'B08', 'cloud_mask']\n",
    "    xs = []\n",
    "\n",
    "    for i, row in tqdm(df.iterrows()):\n",
    "        x = dask.array.concatenate([\n",
    "            image.imread(f'/driven-data/cloud-cover/train_features/{row.chip_id}/*.tif'), \n",
    "            image.imread(f'/driven-data/cloud-cover/train_labels/{row.chip_id}.tif')\n",
    "        ])\n",
    "        x = xr.DataArray(x, dims=['band', 'x', 'y'], coords=[band, xy, xy], name='images')\n",
    "        x = x.assign_coords({'chip_id':row.chip_id})\n",
    "        x = x.expand_dims('chip_id')\n",
    "        x = add_coord(x, row.location, 'location')\n",
    "        x = add_coord(x, row.datetime, 'datetime')\n",
    "        xs.append(x)\n",
    "\n",
    "    ds = xr.concat(xs, dim='chip_id').to_dataset()\n",
    "    return ds"
   ]
  },
  {
   "cell_type": "code",
   "execution_count": null,
   "id": "b2729d7d-7314-440f-ad70-6fc8a8ffe4ef",
   "metadata": {},
   "outputs": [],
   "source": [
    "%%time\n",
    "ds = get_dataset_pc(100)"
   ]
  },
  {
   "cell_type": "code",
   "execution_count": null,
   "id": "da3a1b75-58a1-4fac-a2d5-0f4e610cadc3",
   "metadata": {},
   "outputs": [],
   "source": [
    "ds"
   ]
  },
  {
   "cell_type": "code",
   "execution_count": null,
   "id": "d63f1abb-1e5a-4407-a0aa-79296afcb910",
   "metadata": {},
   "outputs": [],
   "source": [
    "print(f\"expected to take {14.2*12000/100 / 60} minutes for full dataset\")"
   ]
  },
  {
   "cell_type": "markdown",
   "id": "e9c161ff-ab94-43aa-8fab-0138157b700b",
   "metadata": {},
   "source": [
    "Could pickle thr result though"
   ]
  },
  {
   "cell_type": "code",
   "execution_count": null,
   "id": "ed1c4af0-d42f-4d1e-ac83-594aa056dc9f",
   "metadata": {},
   "outputs": [],
   "source": [
    "with open('test.pkl', 'wb') as f:\n",
    "    pickle.dump(ds, f)"
   ]
  },
  {
   "cell_type": "code",
   "execution_count": null,
   "id": "ca798d09-4f38-4f4e-94a6-b4b114e513db",
   "metadata": {},
   "outputs": [],
   "source": [
    "ls -lh test.pkl"
   ]
  },
  {
   "cell_type": "code",
   "execution_count": null,
   "id": "7f56145f-4b80-4844-918e-e0ff6f918916",
   "metadata": {},
   "outputs": [],
   "source": [
    "with open('test.pkl', 'rb') as f:\n",
    "    ds2 = pickle.load(f)"
   ]
  },
  {
   "cell_type": "code",
   "execution_count": null,
   "id": "74b6bf7f-4687-46e8-b87f-fabc732a30c3",
   "metadata": {},
   "outputs": [],
   "source": [
    "ds2"
   ]
  },
  {
   "cell_type": "code",
   "execution_count": null,
   "id": "af454927-a3c6-4586-8ddd-1a2e60d487ca",
   "metadata": {},
   "outputs": [],
   "source": [
    "%%time\n",
    "for n in range(100):\n",
    "    x = ds.isel(chip_id=n).compute(scheduler='single-threaded')"
   ]
  },
  {
   "cell_type": "markdown",
   "id": "ccf8becb-56a5-42dc-b246-69bef058f7b5",
   "metadata": {},
   "source": [
    "this is 12 times slower than zarr store on stream"
   ]
  },
  {
   "cell_type": "markdown",
   "id": "9c288919-03a2-42f9-937b-23d6fc4bf28b",
   "metadata": {},
   "source": [
    "## Lets do it anyway"
   ]
  },
  {
   "cell_type": "code",
   "execution_count": null,
   "id": "0bfebdb8-db21-4d98-9237-1c1c34b914c8",
   "metadata": {},
   "outputs": [],
   "source": [
    "ds = get_dataset_pc()"
   ]
  },
  {
   "cell_type": "code",
   "execution_count": null,
   "id": "9cd49163-fe18-4844-b2db-0bc20cedc9b6",
   "metadata": {},
   "outputs": [],
   "source": [
    "with open('xarray_train_from_tiff.pkl', 'wb') as f:\n",
    "    pickle.dump(ds, f)"
   ]
  },
  {
   "cell_type": "code",
   "execution_count": null,
   "id": "2308df46-9e15-4b29-a13f-f5d64b8ef40d",
   "metadata": {},
   "outputs": [],
   "source": [
    "ls -lh xarray_train_from_tiff.pkl"
   ]
  },
  {
   "cell_type": "markdown",
   "id": "edb7c3c3-9a5e-4148-9735-2a4b132aeb55",
   "metadata": {},
   "source": []
  },
  {
   "cell_type": "code",
   "execution_count": null,
   "id": "15c55013-7b1a-4850-99a4-27cb336e64dd",
   "metadata": {},
   "outputs": [],
   "source": [
    "ds = ds.chunk(dict(band=-1))"
   ]
  },
  {
   "cell_type": "code",
   "execution_count": null,
   "id": "2578d89a-40db-4e25-8b61-233d29741f13",
   "metadata": {},
   "outputs": [],
   "source": [
    "ds"
   ]
  },
  {
   "cell_type": "code",
   "execution_count": null,
   "id": "38df4907-e06e-44ad-99db-fa8e82646f92",
   "metadata": {},
   "outputs": [],
   "source": [
    "with open('xarray_train_from_tiff.pkl', 'rb') as f:\n",
    "    ds2 = pickle.load(f)"
   ]
  },
  {
   "cell_type": "code",
   "execution_count": null,
   "id": "6f746acc-bbda-4e5a-a6e3-84cf497a2dc9",
   "metadata": {},
   "outputs": [],
   "source": [
    "%%time\n",
    "for n in range(100):\n",
    "    x = ds2.isel(chip_id=n).compute(scheduler='single-threaded')"
   ]
  },
  {
   "cell_type": "code",
   "execution_count": null,
   "id": "78e7a519-32c6-41ff-84c5-dd3dcc735230",
   "metadata": {},
   "outputs": [],
   "source": [
    "with open('xarray_train_from_tiff_rechunk.pkl', 'rb') as f:\n",
    "    ds2 = pickle.load(f)"
   ]
  },
  {
   "cell_type": "code",
   "execution_count": null,
   "id": "5f36f9bc-ff1d-4bae-bde8-28fc6ffd37e7",
   "metadata": {},
   "outputs": [],
   "source": [
    "%%time\n",
    "for n in range(100):\n",
    "    x = ds2.isel(chip_id=n).compute(scheduler='single-threaded')"
   ]
  },
  {
   "cell_type": "code",
   "execution_count": null,
   "id": "b900122e-076f-4e30-ba5c-1a662f4a9e75",
   "metadata": {},
   "outputs": [],
   "source": [
    "ds2 = xr.open_zarr('cloudmask/data/train_zarr_remade')"
   ]
  },
  {
   "cell_type": "code",
   "execution_count": null,
   "id": "999c51b6-04dd-4379-a45b-1e991a751336",
   "metadata": {},
   "outputs": [],
   "source": [
    "%%time\n",
    "for n in range(100):\n",
    "    x = ds2.isel(chip_id=n).compute(scheduler='single-threaded')"
   ]
  },
  {
   "cell_type": "markdown",
   "id": "acb3ab86-693e-4aab-a93e-09cc2d7d912b",
   "metadata": {},
   "source": [
    "## Try different way"
   ]
  },
  {
   "cell_type": "code",
   "execution_count": 2,
   "id": "3edaff31-5744-4345-981f-2f5eb697d9a3",
   "metadata": {},
   "outputs": [],
   "source": [
    "from PIL import Image\n",
    "from dask import delayed"
   ]
  },
  {
   "cell_type": "code",
   "execution_count": 3,
   "id": "95cfac1b-4d4a-49c7-90a7-95cb87789277",
   "metadata": {},
   "outputs": [],
   "source": [
    "band = ['B02', 'B03', 'B04', 'B08']"
   ]
  },
  {
   "cell_type": "code",
   "execution_count": 4,
   "id": "45117b7d-36dc-4705-bc4e-1145a5a451fd",
   "metadata": {},
   "outputs": [],
   "source": [
    "def get_array(chip_id):\n",
    "    band = ['B02', 'B03', 'B04', 'B08']\n",
    "    xs=[]\n",
    "    for b in band:\n",
    "        xs += [np.array(Image.open(f\"/driven-data/cloud-cover/train_features/{chip_id}/{b}.tif\"))]\n",
    "    xs += [np.array(Image.open(f\"/driven-data/cloud-cover/train_labels/{chip_id}.tif\"))]\n",
    "    return np.array(xs).astype(np.int16)"
   ]
  },
  {
   "cell_type": "code",
   "execution_count": 6,
   "id": "894790cc-6e3d-4645-b2b5-d3e78ea8c9b6",
   "metadata": {},
   "outputs": [
    {
     "name": "stdout",
     "output_type": "stream",
     "text": [
      "127 ms ± 0 ns per loop (mean ± std. dev. of 1 run, 10 loops each)\n"
     ]
    }
   ],
   "source": [
    "%timeit -n 10 -r 1 get_array('agpw')"
   ]
  },
  {
   "cell_type": "code",
   "execution_count": 8,
   "id": "3a0b2ebe-2d2d-45d1-8ffd-7aa43d676453",
   "metadata": {},
   "outputs": [
    {
     "data": {
      "text/plain": [
       "50800"
      ]
     },
     "execution_count": 8,
     "metadata": {},
     "output_type": "execute_result"
    }
   ],
   "source": [
    "127*400"
   ]
  },
  {
   "cell_type": "code",
   "execution_count": null,
   "id": "2c6de282-5b05-4bec-a19a-26899b9371c2",
   "metadata": {},
   "outputs": [],
   "source": [
    "def add_coord(dataset, value, name):\n",
    "    c = xr.DataArray(value, dims=['chip_id'], coords=[dataset.chip_id], name=name)\n",
    "    return dataset.assign_coords({name:c})\n",
    "\n",
    "\n",
    "def get_dataset_pc(n=None):\n",
    "    df = pd.read_csv(\"/driven-data/cloud-cover/train_metadata.csv\").iloc[:n]\n",
    "    xy = np.arange(512)\n",
    "    band = ['B02', 'B03', 'B04', 'B08', 'cloud_mask']\n",
    "    xs = []\n",
    "\n",
    "    for i, row in tqdm(df.iterrows()):\n",
    "        xs += [dask.array.from_delayed(delayed(get_array)(row.chip_id), shape=(5, 512, 512), dtype=np.int16)]\n",
    "    xs = dask.array.array(xs)\n",
    "    da = xr.DataArray(xs, dims=['chip_id', 'band', 'x', 'y'], coords=[df.chip_id.values, band, xy, xy], name='images')\n",
    "    ds = da.to_dataset()\n",
    "    ds = add_coord(ds, df.location.values, 'location')\n",
    "    ds = add_coord(ds, df.datetime.values, 'datetime')\n",
    "    return ds"
   ]
  },
  {
   "cell_type": "code",
   "execution_count": null,
   "id": "860499e2-6209-4c36-bc47-c5de1cd8ce52",
   "metadata": {},
   "outputs": [],
   "source": [
    "ds3 = get_dataset_pc()"
   ]
  },
  {
   "cell_type": "code",
   "execution_count": null,
   "id": "829c59eb-4c8a-4c08-8652-fbbfa8496531",
   "metadata": {},
   "outputs": [],
   "source": [
    "ds3"
   ]
  },
  {
   "cell_type": "code",
   "execution_count": null,
   "id": "dde5b691-2601-42c8-88dc-9d18667375bd",
   "metadata": {},
   "outputs": [],
   "source": [
    "with open('xarray_train_from_tiff_all.pkl', 'wb') as f:\n",
    "    pickle.dump(ds3, f)"
   ]
  },
  {
   "cell_type": "code",
   "execution_count": null,
   "id": "712cef9c-d2e7-4b3a-821f-b52ab42fafeb",
   "metadata": {},
   "outputs": [],
   "source": [
    "with open('xarray_train_from_tiff_all.pkl', 'rb') as f:\n",
    "    ds3 = pickle.load(f)"
   ]
  },
  {
   "cell_type": "code",
   "execution_count": null,
   "id": "54bc8984-56fe-410c-9b3d-bbf45339f03a",
   "metadata": {},
   "outputs": [],
   "source": [
    "%%time\n",
    "for n in range(100): get_array('agpw')"
   ]
  },
  {
   "cell_type": "code",
   "execution_count": null,
   "id": "fe32924c-5eea-49dc-b6df-744c22f29993",
   "metadata": {},
   "outputs": [],
   "source": [
    "%%time\n",
    "for n in range(10):\n",
    "    x = ds3.isel(chip_id=n).compute(scheduler='single-threaded')"
   ]
  },
  {
   "cell_type": "code",
   "execution_count": null,
   "id": "a7b270af-5d30-4711-8225-4ddff24fed2e",
   "metadata": {},
   "outputs": [],
   "source": [
    "ds3"
   ]
  },
  {
   "cell_type": "code",
   "execution_count": null,
   "id": "d41ed57d-98b8-413e-857c-2ba26095c3ef",
   "metadata": {},
   "outputs": [],
   "source": []
  }
 ],
 "metadata": {
  "kernelspec": {
   "display_name": "Python 3 (ipykernel)",
   "language": "python",
   "name": "python3"
  },
  "language_info": {
   "codemirror_mode": {
    "name": "ipython",
    "version": 3
   },
   "file_extension": ".py",
   "mimetype": "text/x-python",
   "name": "python",
   "nbconvert_exporter": "python",
   "pygments_lexer": "ipython3",
   "version": "3.8.12"
  }
 },
 "nbformat": 4,
 "nbformat_minor": 5
}
