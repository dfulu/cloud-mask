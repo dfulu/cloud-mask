{
 "cells": [
  {
   "cell_type": "code",
   "execution_count": 1,
   "id": "e1fa6c8c-c59a-4c79-ace3-c7c661b316a1",
   "metadata": {},
   "outputs": [],
   "source": [
    "import numpy as np\n",
    "import matplotlib.pyplot as plt\n",
    "import pandas as pd"
   ]
  },
  {
   "cell_type": "code",
   "execution_count": 17,
   "id": "bca49232-f5fd-4f9b-b987-86d736113ea6",
   "metadata": {},
   "outputs": [
    {
     "data": {
      "text/plain": [
       "<AxesSubplot:>"
      ]
     },
     "execution_count": 17,
     "metadata": {},
     "output_type": "execute_result"
    },
    {
     "data": {
      "image/png": "[encoded data removed]",
      "text/plain": [
       "<Figure size 432x288 with 1 Axes>"
      ]
     },
     "metadata": {
      "needs_background": "light"
     },
     "output_type": "display_data"
    }
   ],
   "source": [
    "x = np.cumsum(pd.read_csv('labeler_scores.csv', delimiter='\\t').Score.apply(lambda x: int(x.replace(',', ''))))\n",
    "\n",
    "(x/x.max()).plot(marker='.')"
   ]
  },
  {
   "cell_type": "markdown",
   "id": "aa4e6b50-f8c8-42eb-8c10-88ee2421be21",
   "metadata": {},
   "source": [
    "Most labelling done by a few people\n",
    "\n",
    "https://groundwork.azavea.com/event/"
   ]
  },
  {
   "cell_type": "code",
   "execution_count": null,
   "id": "966b20ed-51fe-4220-9b15-4a800001501e",
   "metadata": {},
   "outputs": [],
   "source": []
  }
 ],
 "metadata": {
  "kernelspec": {
   "display_name": "Python 3 (ipykernel)",
   "language": "python",
   "name": "python3"
  },
  "language_info": {
   "codemirror_mode": {
    "name": "ipython",
    "version": 3
   },
   "file_extension": ".py",
   "mimetype": "text/x-python",
   "name": "python",
   "nbconvert_exporter": "python",
   "pygments_lexer": "ipython3",
   "version": "3.8.12"
  }
 },
 "nbformat": 4,
 "nbformat_minor": 5
}
