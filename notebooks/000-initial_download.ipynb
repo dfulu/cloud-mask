{
 "cells": [
  {
   "cell_type": "markdown",
   "id": "ae570ec0-c8b6-44d3-8c20-956ff4f2ecd6",
   "metadata": {},
   "source": [
    "https://github.com/drivendataorg/cloud-cover-runtime"
   ]
  },
  {
   "cell_type": "markdown",
   "id": "0e0fa920-7668-4781-8322-f1048bc41672",
   "metadata": {},
   "source": [
    "From the [download page](https://www.drivendata.org/competitions/83/cloud-cover/data/) I haveb downloaded\n",
    "\n",
    "- [x] train_metadata.csv - Metadata for the training dataset\n",
    "\n",
    "- [x] data_download_instructions.txt\t- Instructions for how to download the competition images, including training features and labels, from Azure Blob Storage\n",
    "\n",
    "- [x] download_data.py - Script to help download the training features, training labels, and test features from Azure Blob Storage\n",
    "\n",
    "- [x] sas_centralus.txt - SAS token for the Central US region\n",
    "\n",
    "- [x] sas_eastasia.txt - SAS token for the East Asia region\n",
    "\n",
    "- [x] sas_westeurope.txt- SAS token for the West Europe region"
   ]
  },
  {
   "cell_type": "code",
   "execution_count": 10,
   "id": "be87ca00-f908-472a-9fa7-0cc224abd9ba",
   "metadata": {},
   "outputs": [
    {
     "name": "stdout",
     "output_type": "stream",
     "text": [
      "Writing download_data.py\n"
     ]
    }
   ],
   "source": [
    "#%%writefile download_data.py\n"
   ]
  },
  {
   "cell_type": "markdown",
   "id": "655bc479-7eab-4646-a097-f82785bc275b",
   "metadata": {
    "tags": []
   },
   "source": [
    "# HOW TO DOWNLOAD THE CLOUD COVER COMPETITION IMAGES\n",
    "\n",
    "======================================\n",
    "\n",
    "Welcome to the On Cloud N: Cloud Cover Detection Challenge! These instructions will help you access the satellite image files for this competition. The imagery and labels are hosted in a set of Azure Blob Storage containers in three regions.\n",
    "\n",
    "Here are the steps to download the entire training set features and labels to your local machine.\n",
    "\n",
    "1. Save the `download_data.py` script from the competition data download page:\n",
    "\n",
    "    https://www.drivendata.org/competitions/83/cloud-cover/data/\n",
    "\n",
    "2. Install the requirements with the command below. You may want to create and activate a Python (>3.6) virtual environment first, for example with conda (https://docs.conda.io/projects/conda/en/latest/user-guide/tasks/manage-environments.html).\n",
    "\n",
    "    pip install \"cloudpathlib[azure]\" loguru tqdm typer\n",
    "\n",
    "3. To download from the competition container, you'll need a Shared Access Signature (SAS). The competition data is stored on three Azure Blob Containers in different regionsâ€•Central US, East Asia, and West Europe. Each region includes identical data, so choose the region closest to the machine you are downloading the data to. If your code is running on the Planetary Computer Hub, use West Europe, which is where the cluster is located. Download the token for your chosen region from the data download page. You should now have a plain-text file named `sas_centralus.txt`, `sas_eastasia.txt`, or `sas_westeurope.txt` containing a token that starts with `https://cloudcoverdata`.\n",
    "\n",
    "4. Run the download script, passing the path to your SAS token with the `--sas-url` argument. By default, this will download the entire competition dataset to a directory named `data` in your current working directory. You can change the destination with the `--local-directory` argument.\n",
    "\n",
    "      `python download_data.py --sas-url <path to sas file>`\n",
    "\n",
    "  For example, to download from the West Europe region with an SAS token saved as `sas_westeurope.txt`:\n",
    "\n",
    "      `python download_data.py --sas-url sas_westeurope.txt`\n",
    "\n",
    "  You can also download a single directory containing a subset of the data with the `--cloud-directory` flag. For example:\n",
    "\n",
    "      # train features\n",
    "      `python download_data.py --cloud-directory \"az://./train_features\" --sas-url sas_westeurope.txt`\n",
    "\n",
    "      # train labels\n",
    "      `python download_data.py --cloud-directory \"az://./train_labels\" --sas-url sas_westeurope.txt`\n",
    "\n",
    "      # single chip\n",
    "      `python download_data.py --cloud-directory \"az://./train_features/akny\" --sas-url sas_westeurope.txt`\n",
    "\n",
    "## Download script documentation\n",
    "\n",
    "  ```\n",
    "  $ python download_data.py --help\n",
    "\n",
    "  Usage: download_data.py [OPTIONS]\n",
    "\n",
    "    Downloads the challenge dataset to your local machine.\n",
    "\n",
    "  Options:\n",
    "    --sas-url TEXT                  Shared Access Signature URL that allows you\n",
    "                                    to access the files (starting with\n",
    "                                    https://...). This can be either the SAS URL\n",
    "                                    itself or a path to a file containing the\n",
    "                                    SAS URL, available from the competition\n",
    "                                    datasets page.  [required]\n",
    "    --cloud-directory TEXT          Cloudpathlib URI (`az://./<directory>`) for\n",
    "                                    cloud directory to be downloaded.  [default:\n",
    "                                    az://.]\n",
    "    --local-directory PATH          Directory on your local machine to which the\n",
    "                                    files are downloaded.  [default: data]\n",
    "  ```\n",
    "\n",
    "Good luck! If you have any questions you can always visit the user forum:\n",
    "  \n",
    "  https://community.drivendata.org/c/cloud-cover"
   ]
  },
  {
   "cell_type": "code",
   "execution_count": null,
   "id": "73d5250b-3a07-48f6-8a59-8a590316dec3",
   "metadata": {},
   "outputs": [],
   "source": []
  }
 ],
 "metadata": {
  "kernelspec": {
   "display_name": "clim2clim2",
   "language": "python",
   "name": "clim2clim2"
  },
  "language_info": {
   "codemirror_mode": {
    "name": "ipython",
    "version": 3
   },
   "file_extension": ".py",
   "mimetype": "text/x-python",
   "name": "python",
   "nbconvert_exporter": "python",
   "pygments_lexer": "ipython3",
   "version": "3.8.12"
  }
 },
 "nbformat": 4,
 "nbformat_minor": 5
}
