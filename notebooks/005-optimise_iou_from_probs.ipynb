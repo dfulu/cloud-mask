{
 "cells": [
  {
   "cell_type": "code",
   "execution_count": 1,
   "id": "4ba66fcf-ca2d-4b16-ac09-027750000b84",
   "metadata": {},
   "outputs": [],
   "source": [
    "import numpy as np\n",
    "import matplotlib.pyplot as plt\n",
    "import pandas as pd"
   ]
  },
  {
   "cell_type": "code",
   "execution_count": 3,
   "id": "58fd9a2a-1dc1-4cfa-b68a-8662b093a650",
   "metadata": {},
   "outputs": [],
   "source": [
    "def decision_boundary(preds, p=0.5):\n",
    "    return preds > p"
   ]
  },
  {
   "cell_type": "code",
   "execution_count": 4,
   "id": "d59ba063-80df-40f8-afce-0a3f60a08a04",
   "metadata": {},
   "outputs": [],
   "source": [
    "def calc_iou(preds, y):\n",
    "    return np.logical_and(preds, y).sum() / np.logical_or(preds, y).sum()"
   ]
  },
  {
   "cell_type": "code",
   "execution_count": 23,
   "id": "e09ee0ae-dc12-4e80-9493-a8fc2a4b0dbd",
   "metadata": {},
   "outputs": [],
   "source": [
    "def considered_boundary(preds):\n",
    "    # start with threshold 0.5\n",
    "    thresh = 0\n",
    "    preds = np.sort(preds)[::-1]\n",
    "    expected_intersection =  0\n",
    "    union_lower_bound = 0\n",
    "    for i, p in enumerate(preds):\n",
    "        if p>0.5:\n",
    "            expected_intersection+=p\n",
    "            continue\n",
    "        iou_lower_bound = expected_intersection / i\n",
    "        thresh = (1+iou_lower_bound**-1)**-1\n",
    "        if p>thresh:\n",
    "            expected_intersection+=p\n",
    "        else:\n",
    "            return thresh"
   ]
  },
  {
   "cell_type": "code",
   "execution_count": 80,
   "id": "d49b2626-643c-4b4d-b25c-80ea7b04340b",
   "metadata": {},
   "outputs": [],
   "source": [
    "def experiment(preds, noisey_preds=None):\n",
    "\n",
    "    y = np.random.random(preds.shape)<preds\n",
    "    ps = np.linspace(0, 1, 100)\n",
    "    ious = [calc_iou(decision_boundary(preds, p), y) for p in ps]\n",
    "    \n",
    "    fig, axes = plt.subplots(1,2, figsize=(8,3))\n",
    "    axes[0].hist(preds, bins=30)\n",
    "    axes[1].plot(ps, ious)\n",
    "    \n",
    "    if noisey_preds is not None:\n",
    "        ious_noise = [calc_iou(decision_boundary(noisey_preds, p), y) for p in ps]\n",
    "        axes[1].plot(ps, ious_noise, label = 'Noisey')\n",
    "        \n",
    "    plt.show()\n",
    "    \n",
    "    \n",
    "    \n",
    "    my_thresh = considered_boundary(preds)\n",
    "    my_iou = calc_iou(decision_boundary(preds, my_thresh), y)\n",
    "    if noisey_preds is not None:\n",
    "        my_thresh_noise = considered_boundary(noisey_preds)\n",
    "        my_iou_noise = calc_iou(decision_boundary(noisey_preds, my_thresh_noise), y)\n",
    "    print(f\"Optimal             p>{ps[np.argmax(ious)]:.5f} -> IoU = {max(ious):.5f}\")\n",
    "    if noisey_preds is not None:\n",
    "        print(f\"Optimal w/ noise    p>{ps[np.argmax(ious_noise)]:.5f} -> IoU = {max(ious_noise):.5f}\")\n",
    "    print(f\"Estimated           p>{my_thresh:.5f} -> IoU = {my_iou:.5f}\")\n",
    "    if noisey_preds is not None:\n",
    "        print(f\"Estimated w/ noise  p>{my_thresh_noise:.5f} -> IoU = {my_iou_noise:.5f}\")\n",
    "    print(f\"Simple              p>{0.5:.5f} -> IoU = {calc_iou(decision_boundary(preds, 0.5), y):.5f}\")\n",
    "    if noisey_preds is not None:\n",
    "        print(f\"Simple w/ noise     p>{0.5:.5f} -> IoU = {calc_iou(decision_boundary(noisey_preds, 0.5), y):.5f}\")"
   ]
  },
  {
   "cell_type": "code",
   "execution_count": 72,
   "id": "fa6bb4ce-d9a6-4cc2-a5a1-8ac18a707ef8",
   "metadata": {},
   "outputs": [
    {
     "data": {
      "image/png": "[encoded data removed]",
      "text/plain": [
       "<Figure size 576x216 with 2 Axes>"
      ]
     },
     "metadata": {
      "needs_background": "light"
     },
     "output_type": "display_data"
    },
    {
     "name": "stdout",
     "output_type": "stream",
     "text": [
      "Optimal             p>0.41414 -> IoU = 0.62292\n",
      "Estimated           p>0.41441(0.41441) -> IoU = 0.62301\n",
      "Simple              p>0.50000 -> IoU = 0.60607\n"
     ]
    }
   ],
   "source": [
    "preds = np.random.random(10000)\n",
    "\n",
    "experiment(preds)"
   ]
  },
  {
   "cell_type": "code",
   "execution_count": 73,
   "id": "f6a7ea9f-c411-4bc7-a537-5bfb3f17b28d",
   "metadata": {},
   "outputs": [],
   "source": [
    "def add_clip(preds, noise):\n",
    "    return (preds+noise).clip(0,1)"
   ]
  },
  {
   "cell_type": "code",
   "execution_count": 74,
   "id": "a715b3d8-b52f-4135-bda3-b94bf9747baf",
   "metadata": {},
   "outputs": [
    {
     "data": {
      "image/png": "[encoded data removed]",
      "text/plain": [
       "<Figure size 576x216 with 2 Axes>"
      ]
     },
     "metadata": {
      "needs_background": "light"
     },
     "output_type": "display_data"
    },
    {
     "name": "stdout",
     "output_type": "stream",
     "text": [
      "Optimal             p>0.34343 -> IoU = 0.61960\n",
      "Optimal w/ noise    p>0.34343 -> IoU = 0.61960\n",
      "Estimated           p>0.41278(0.41278) -> IoU = 0.61663\n",
      "Estimated w/ noise  p>0.41278(0.41278) -> IoU = 0.61663\n",
      "Simple              p>0.50000 -> IoU = 0.59577\n",
      "Simple w/ noise     p>0.50000 -> IoU = 0.59648\n"
     ]
    }
   ],
   "source": [
    "preds = np.random.random(10000)\n",
    "\n",
    "noise = (np.random.random(10000)*0.2)-0.1\n",
    "\n",
    "experiment(preds, add_clip(preds, noise))"
   ]
  },
  {
   "cell_type": "code",
   "execution_count": 37,
   "id": "f58046a2-2b32-4450-836c-53b4f17a05ff",
   "metadata": {},
   "outputs": [],
   "source": [
    "def power_draw(n, pow):\n",
    "    ps = np.random.random((n, abs(pow)))\n",
    "    if pow>0:\n",
    "        return ps.max(axis=1)\n",
    "    else:\n",
    "        return ps.min(axis=1)"
   ]
  },
  {
   "cell_type": "code",
   "execution_count": 56,
   "id": "93f2994c-f4a2-406f-81fd-68d1fa5ceb03",
   "metadata": {},
   "outputs": [],
   "source": [
    "def median_power_draw(n, pow):\n",
    "    return np.median(np.random.random((n, abs(pow))), axis=1)"
   ]
  },
  {
   "cell_type": "code",
   "execution_count": 38,
   "id": "11bcf4f3-d7a3-47f0-b4a1-926797a71415",
   "metadata": {},
   "outputs": [
    {
     "data": {
      "image/png": "[encoded data removed]",
      "text/plain": [
       "<Figure size 576x216 with 2 Axes>"
      ]
     },
     "metadata": {
      "needs_background": "light"
     },
     "output_type": "display_data"
    },
    {
     "name": "stdout",
     "output_type": "stream",
     "text": [
      "Optimal > p>0.41414 -> IoU = 0.70498\n",
      "Estimated p>0.42901 -> IoU = 0.70404\n",
      "Simple p>0.50000 -> IoU = 0.69863\n"
     ]
    }
   ],
   "source": [
    "experiment(power_draw(10000, 2))"
   ]
  },
  {
   "cell_type": "code",
   "execution_count": 39,
   "id": "8735d171-8d32-4cb7-9753-93e6168452ae",
   "metadata": {},
   "outputs": [
    {
     "data": {
      "image/png": "[encoded data removed]",
      "text/plain": [
       "<Figure size 576x216 with 2 Axes>"
      ]
     },
     "metadata": {
      "needs_background": "light"
     },
     "output_type": "display_data"
    },
    {
     "name": "stdout",
     "output_type": "stream",
     "text": [
      "Optimal > p>0.30303 -> IoU = 0.45563\n",
      "Estimated p>0.36517 -> IoU = 0.45352\n",
      "Simple p>0.50000 -> IoU = 0.40675\n"
     ]
    }
   ],
   "source": [
    "experiment(power_draw(10000, -2))"
   ]
  },
  {
   "cell_type": "code",
   "execution_count": 40,
   "id": "f31a21c5-0354-4637-abe6-e5b1a122844e",
   "metadata": {},
   "outputs": [
    {
     "data": {
      "image/png": "[encoded data removed]",
      "text/plain": [
       "<Figure size 576x216 with 2 Axes>"
      ]
     },
     "metadata": {
      "needs_background": "light"
     },
     "output_type": "display_data"
    },
    {
     "name": "stdout",
     "output_type": "stream",
     "text": [
      "Optimal > p>0.24242 -> IoU = 0.33130\n",
      "Estimated p>0.31114 -> IoU = 0.31298\n",
      "Simple p>0.50000 -> IoU = 0.17500\n"
     ]
    }
   ],
   "source": [
    "experiment(power_draw(10000, -4))"
   ]
  },
  {
   "cell_type": "code",
   "execution_count": 41,
   "id": "14d515c6-17b1-4fe6-97bf-160493f9db5b",
   "metadata": {},
   "outputs": [
    {
     "data": {
      "image/png": "[encoded data removed]",
      "text/plain": [
       "<Figure size 576x216 with 2 Axes>"
      ]
     },
     "metadata": {
      "needs_background": "light"
     },
     "output_type": "display_data"
    },
    {
     "ename": "ZeroDivisionError",
     "evalue": "division by zero",
     "output_type": "error",
     "traceback": [
      "\u001b[0;31m---------------------------------------------------------------------------\u001b[0m",
      "\u001b[0;31mZeroDivisionError\u001b[0m                         Traceback (most recent call last)",
      "\u001b[0;32m/tmp/ipykernel_13856/4134389168.py\u001b[0m in \u001b[0;36m<module>\u001b[0;34m\u001b[0m\n\u001b[0;32m----> 1\u001b[0;31m \u001b[0mexperiment\u001b[0m\u001b[0;34m(\u001b[0m\u001b[0;34m(\u001b[0m\u001b[0mnp\u001b[0m\u001b[0;34m.\u001b[0m\u001b[0mones\u001b[0m\u001b[0;34m(\u001b[0m\u001b[0;36m10000\u001b[0m\u001b[0;34m)\u001b[0m\u001b[0;34m*\u001b[0m\u001b[0;36m0.1\u001b[0m\u001b[0;34m)\u001b[0m\u001b[0;34m)\u001b[0m\u001b[0;34m\u001b[0m\u001b[0;34m\u001b[0m\u001b[0m\n\u001b[0m",
      "\u001b[0;32m/tmp/ipykernel_13856/1404200889.py\u001b[0m in \u001b[0;36mexperiment\u001b[0;34m(preds)\u001b[0m\n\u001b[1;32m     12\u001b[0m     \u001b[0mplt\u001b[0m\u001b[0;34m.\u001b[0m\u001b[0mshow\u001b[0m\u001b[0;34m(\u001b[0m\u001b[0;34m)\u001b[0m\u001b[0;34m\u001b[0m\u001b[0;34m\u001b[0m\u001b[0m\n\u001b[1;32m     13\u001b[0m \u001b[0;34m\u001b[0m\u001b[0m\n\u001b[0;32m---> 14\u001b[0;31m     \u001b[0mmy_thresh\u001b[0m \u001b[0;34m=\u001b[0m \u001b[0mconsidered_boundary\u001b[0m\u001b[0;34m(\u001b[0m\u001b[0mpreds\u001b[0m\u001b[0;34m)\u001b[0m\u001b[0;34m\u001b[0m\u001b[0;34m\u001b[0m\u001b[0m\n\u001b[0m\u001b[1;32m     15\u001b[0m     \u001b[0mmy_iou\u001b[0m \u001b[0;34m=\u001b[0m \u001b[0mcalc_iou\u001b[0m\u001b[0;34m(\u001b[0m\u001b[0mdecision_boundary\u001b[0m\u001b[0;34m(\u001b[0m\u001b[0mpreds\u001b[0m\u001b[0;34m,\u001b[0m \u001b[0mmy_thresh\u001b[0m\u001b[0;34m)\u001b[0m\u001b[0;34m,\u001b[0m \u001b[0my\u001b[0m\u001b[0;34m)\u001b[0m\u001b[0;34m\u001b[0m\u001b[0;34m\u001b[0m\u001b[0m\n\u001b[1;32m     16\u001b[0m     \u001b[0mprint\u001b[0m\u001b[0;34m(\u001b[0m\u001b[0;34mf\"Optimal > p>{ps[np.argmax(ious)]:.5f} -> IoU = {max(ious):.5f}\"\u001b[0m\u001b[0;34m)\u001b[0m\u001b[0;34m\u001b[0m\u001b[0;34m\u001b[0m\u001b[0m\n",
      "\u001b[0;32m/tmp/ipykernel_13856/371822792.py\u001b[0m in \u001b[0;36mconsidered_boundary\u001b[0;34m(preds)\u001b[0m\n\u001b[1;32m      9\u001b[0m             \u001b[0mexpected_intersection\u001b[0m\u001b[0;34m+=\u001b[0m\u001b[0mp\u001b[0m\u001b[0;34m\u001b[0m\u001b[0;34m\u001b[0m\u001b[0m\n\u001b[1;32m     10\u001b[0m             \u001b[0;32mcontinue\u001b[0m\u001b[0;34m\u001b[0m\u001b[0;34m\u001b[0m\u001b[0m\n\u001b[0;32m---> 11\u001b[0;31m         \u001b[0miou_lower_bound\u001b[0m \u001b[0;34m=\u001b[0m \u001b[0mexpected_intersection\u001b[0m \u001b[0;34m/\u001b[0m \u001b[0mi\u001b[0m\u001b[0;34m\u001b[0m\u001b[0;34m\u001b[0m\u001b[0m\n\u001b[0m\u001b[1;32m     12\u001b[0m         \u001b[0mthresh\u001b[0m \u001b[0;34m=\u001b[0m \u001b[0;34m(\u001b[0m\u001b[0;36m1\u001b[0m\u001b[0;34m+\u001b[0m\u001b[0miou_lower_bound\u001b[0m\u001b[0;34m**\u001b[0m\u001b[0;34m-\u001b[0m\u001b[0;36m1\u001b[0m\u001b[0;34m)\u001b[0m\u001b[0;34m**\u001b[0m\u001b[0;34m-\u001b[0m\u001b[0;36m1\u001b[0m\u001b[0;34m\u001b[0m\u001b[0;34m\u001b[0m\u001b[0m\n\u001b[1;32m     13\u001b[0m         \u001b[0;32mif\u001b[0m \u001b[0mp\u001b[0m\u001b[0;34m>\u001b[0m\u001b[0mthresh\u001b[0m\u001b[0;34m:\u001b[0m\u001b[0;34m\u001b[0m\u001b[0;34m\u001b[0m\u001b[0m\n",
      "\u001b[0;31mZeroDivisionError\u001b[0m: division by zero"
     ]
    }
   ],
   "source": [
    "experiment((np.ones(10000)*0.1))"
   ]
  },
  {
   "cell_type": "code",
   "execution_count": 42,
   "id": "60e49fae-a393-499c-901a-603fe6c20eb6",
   "metadata": {},
   "outputs": [
    {
     "data": {
      "image/png": "[encoded data removed]",
      "text/plain": [
       "<Figure size 576x216 with 2 Axes>"
      ]
     },
     "metadata": {
      "needs_background": "light"
     },
     "output_type": "display_data"
    },
    {
     "name": "stdout",
     "output_type": "stream",
     "text": [
      "Optimal > p>0.47475 -> IoU = 0.82413\n",
      "Estimated p>0.45677 -> IoU = 0.82429\n",
      "Simple p>0.50000 -> IoU = 0.82327\n"
     ]
    }
   ],
   "source": [
    "experiment(np.concatenate([power_draw(10000, 5), power_draw(1000, -5)]))\n"
   ]
  },
  {
   "cell_type": "code",
   "execution_count": 43,
   "id": "52154481-d43d-4c5d-ab3d-e32f0adbd668",
   "metadata": {},
   "outputs": [
    {
     "data": {
      "image/png": "[encoded data removed]",
      "text/plain": [
       "<Figure size 576x216 with 2 Axes>"
      ]
     },
     "metadata": {
      "needs_background": "light"
     },
     "output_type": "display_data"
    },
    {
     "name": "stdout",
     "output_type": "stream",
     "text": [
      "Optimal > p>0.42424 -> IoU = 0.72492\n",
      "Estimated p>0.43759 -> IoU = 0.72386\n",
      "Simple p>0.50000 -> IoU = 0.72112\n"
     ]
    }
   ],
   "source": [
    "experiment(np.concatenate([power_draw(10000, 4), power_draw(10000, 1)]))"
   ]
  },
  {
   "cell_type": "code",
   "execution_count": 44,
   "id": "ba7d4983-4205-4dbf-8d7b-cd85b870cb67",
   "metadata": {},
   "outputs": [
    {
     "data": {
      "image/png": "[encoded data removed]",
      "text/plain": [
       "<Figure size 576x216 with 2 Axes>"
      ]
     },
     "metadata": {
      "needs_background": "light"
     },
     "output_type": "display_data"
    },
    {
     "name": "stdout",
     "output_type": "stream",
     "text": [
      "Optimal > p>0.49495 -> IoU = 0.83976\n",
      "Estimated p>0.47127 -> IoU = 0.83894\n",
      "Simple p>0.50000 -> IoU = 0.83945\n"
     ]
    }
   ],
   "source": [
    "experiment(np.concatenate([power_draw(10000, 10), power_draw(4000, -3)]))"
   ]
  },
  {
   "cell_type": "code",
   "execution_count": 46,
   "id": "1eda6758-c613-4b80-92f3-58048e6deb03",
   "metadata": {},
   "outputs": [
    {
     "data": {
      "image/png": "[encoded data removed]",
      "text/plain": [
       "<Figure size 576x216 with 2 Axes>"
      ]
     },
     "metadata": {
      "needs_background": "light"
     },
     "output_type": "display_data"
    },
    {
     "name": "stdout",
     "output_type": "stream",
     "text": [
      "Optimal > p>0.43434 -> IoU = 0.73007\n",
      "Estimated p>0.43881 -> IoU = 0.72972\n",
      "Simple p>0.50000 -> IoU = 0.72427\n"
     ]
    }
   ],
   "source": [
    "preds = np.concatenate([power_draw(10000, 4), power_draw(10000, 1)])\n",
    "\n",
    "experiment(preds)"
   ]
  },
  {
   "cell_type": "code",
   "execution_count": 54,
   "id": "ba3eb0f1-41dc-4bb2-974e-e44318e6265f",
   "metadata": {},
   "outputs": [
    {
     "data": {
      "image/png": "[encoded data removed]",
      "text/plain": [
       "<Figure size 576x216 with 2 Axes>"
      ]
     },
     "metadata": {
      "needs_background": "light"
     },
     "output_type": "display_data"
    },
    {
     "name": "stdout",
     "output_type": "stream",
     "text": [
      "Optimal > p>0.46465 -> IoU = 0.77875\n",
      "Estimated p>0.46114 -> IoU = 0.77822\n",
      "Simple p>0.50000 -> IoU = 0.77481\n"
     ]
    }
   ],
   "source": [
    "preds = np.concatenate([\n",
    "    power_draw(10000, 10), \n",
    "    power_draw(7000, -10),\n",
    "    np.random.random(8000),\n",
    "])\n",
    "\n",
    "experiment(preds)"
   ]
  },
  {
   "cell_type": "code",
   "execution_count": 63,
   "id": "d157089f-ccdc-4fb6-8c28-791fd2da81f9",
   "metadata": {},
   "outputs": [
    {
     "data": {
      "image/png": "[encoded data removed]",
      "text/plain": [
       "<Figure size 576x216 with 2 Axes>"
      ]
     },
     "metadata": {
      "needs_background": "light"
     },
     "output_type": "display_data"
    },
    {
     "name": "stdout",
     "output_type": "stream",
     "text": [
      "Optimal > p>0.38384 -> IoU = 0.66976\n",
      "Estimated p>0.41710 -> IoU = 0.66861\n",
      "Simple p>0.50000 -> IoU = 0.66254\n"
     ]
    }
   ],
   "source": [
    "preds = np.concatenate([\n",
    "    (median_power_draw(10000, 4)+.2).clip(0, 1),\n",
    "    np.random.random(8000),\n",
    "])\n",
    "\n",
    "experiment(preds)"
   ]
  },
  {
   "cell_type": "code",
   "execution_count": 77,
   "id": "dfff4bbf-eac1-4735-b39c-e8d0e933327c",
   "metadata": {},
   "outputs": [
    {
     "data": {
      "image/png": "[encoded data removed]",
      "text/plain": [
       "<Figure size 576x216 with 2 Axes>"
      ]
     },
     "metadata": {
      "needs_background": "light"
     },
     "output_type": "display_data"
    },
    {
     "name": "stdout",
     "output_type": "stream",
     "text": [
      "Optimal             p>0.43434 -> IoU = 0.76781\n",
      "Estimated           p>0.44543 -> IoU = 0.76778\n",
      "Simple              p>0.50000 -> IoU = 0.76491\n"
     ]
    }
   ],
   "source": [
    "preds = np.concatenate([\n",
    "    (median_power_draw(10000, 4)+.2).clip(0, 1),\n",
    "    power_draw(10000, 10),\n",
    "    np.random.random(8000),\n",
    "])\n",
    "\n",
    "experiment(preds)"
   ]
  },
  {
   "cell_type": "code",
   "execution_count": 86,
   "id": "518145fa-2040-4b73-8191-57c0ac0d69b2",
   "metadata": {},
   "outputs": [
    {
     "data": {
      "image/png": "[encoded data removed]",
      "text/plain": [
       "<Figure size 576x216 with 2 Axes>"
      ]
     },
     "metadata": {
      "needs_background": "light"
     },
     "output_type": "display_data"
    },
    {
     "name": "stdout",
     "output_type": "stream",
     "text": [
      "Optimal             p>0.41414 -> IoU = 0.77961\n",
      "Optimal w/ noise    p>0.44444 -> IoU = 0.77800\n",
      "Estimated           p>0.46086 -> IoU = 0.77939\n",
      "Estimated w/ noise  p>0.45808 -> IoU = 0.77787\n",
      "Simple              p>0.50000 -> IoU = 0.77851\n",
      "Simple w/ noise     p>0.50000 -> IoU = 0.77579\n"
     ]
    }
   ],
   "source": [
    "preds = np.concatenate([\n",
    "    power_draw(10000, 10), \n",
    "    power_draw(7000, -10),\n",
    "    np.random.random(8000),\n",
    "])\n",
    "\n",
    "noise = ((np.random.random(preds.shape[0])-.5)*.3)\n",
    "\n",
    "experiment(preds, add_clip(preds, noise))"
   ]
  },
  {
   "cell_type": "code",
   "execution_count": 90,
   "id": "88aba669-1a44-43d7-b42e-c9783faca5c7",
   "metadata": {},
   "outputs": [
    {
     "data": {
      "image/png": "[encoded data removed]",
      "text/plain": [
       "<Figure size 576x216 with 2 Axes>"
      ]
     },
     "metadata": {
      "needs_background": "light"
     },
     "output_type": "display_data"
    },
    {
     "name": "stdout",
     "output_type": "stream",
     "text": [
      "Optimal             p>0.35354 -> IoU = 0.77165\n",
      "Optimal w/ noise    p>0.25253 -> IoU = 0.74477\n",
      "Estimated           p>0.44473 -> IoU = 0.76625\n",
      "Estimated w/ noise  p>0.44564 -> IoU = 0.72492\n",
      "Simple              p>0.50000 -> IoU = 0.75505\n",
      "Simple w/ noise     p>0.50000 -> IoU = 0.70856\n"
     ]
    }
   ],
   "source": [
    "preds = np.concatenate([\n",
    "    (median_power_draw(1000, 4)+.2).clip(0, 1),\n",
    "    power_draw(1000, 10),\n",
    "    np.random.random(800),\n",
    "])\n",
    "\n",
    "noise = ((np.random.random(preds.shape[0])-.5)*.8)\n",
    "\n",
    "experiment(preds, add_clip(preds, noise))"
   ]
  },
  {
   "cell_type": "code",
   "execution_count": 3,
   "id": "f7697e12-2890-4c04-a7f2-0bcb2877329e",
   "metadata": {},
   "outputs": [
    {
     "name": "stdout",
     "output_type": "stream",
     "text": [
      "-rw-rw-r-- 1 jovyan users 1834 Dec 22 21:53 ../scripts/rand_walk_threshold_stats_clean.csv\n",
      "-rw-rw-r-- 1 jovyan users 5839 Dec 29 00:43 ../scripts/threshold_stats_all.csv\n",
      "-rw-rw-r-- 1 jovyan users 5868 Dec 21 22:16 ../scripts/threshold_stats_clean.csv\n"
     ]
    }
   ],
   "source": [
    "ls -l ../scripts/*.csv"
   ]
  },
  {
   "cell_type": "code",
   "execution_count": 25,
   "id": "65fd748a-fe47-4516-a0df-ece4ad06b65a",
   "metadata": {},
   "outputs": [],
   "source": [
    "df_clean = pd.read_csv(\"../scripts/threshold_stats_clean.csv\")\n",
    "df_all = pd.read_csv(\"../scripts/threshold_stats_all.csv\")"
   ]
  },
  {
   "cell_type": "code",
   "execution_count": 27,
   "id": "c99c41f6-103b-49b0-8e96-08c9dceab39f",
   "metadata": {},
   "outputs": [
    {
     "data": {
      "text/plain": [
       "<AxesSubplot:xlabel='Unnamed: 0'>"
      ]
     },
     "execution_count": 27,
     "metadata": {},
     "output_type": "execute_result"
    },
    {
     "data": {
      "image/png": "[encoded data removed]",
      "text/plain": [
       "<Figure size 432x288 with 1 Axes>"
      ]
     },
     "metadata": {
      "needs_background": "light"
     },
     "output_type": "display_data"
    }
   ],
   "source": [
    "#df_clean.set_index('Unnamed: 0').IoU.plot()\n",
    "df_all.set_index('Unnamed: 0').IoU.plot()"
   ]
  },
  {
   "cell_type": "code",
   "execution_count": 28,
   "id": "719db975-3b67-440f-99dd-4df5752a1722",
   "metadata": {},
   "outputs": [],
   "source": [
    "df = df_all"
   ]
  },
  {
   "cell_type": "code",
   "execution_count": 29,
   "id": "d9630bd1-8a4f-49ef-86e9-e919bad95490",
   "metadata": {},
   "outputs": [
    {
     "data": {
      "text/html": [
       "<div>\n",
       "<style scoped>\n",
       "    .dataframe tbody tr th:only-of-type {\n",
       "        vertical-align: middle;\n",
       "    }\n",
       "\n",
       "    .dataframe tbody tr th {\n",
       "        vertical-align: top;\n",
       "    }\n",
       "\n",
       "    .dataframe thead th {\n",
       "        text-align: right;\n",
       "    }\n",
       "</style>\n",
       "<table border=\"1\" class=\"dataframe\">\n",
       "  <thead>\n",
       "    <tr style=\"text-align: right;\">\n",
       "      <th></th>\n",
       "      <th>Unnamed: 0</th>\n",
       "      <th>TP</th>\n",
       "      <th>TN</th>\n",
       "      <th>FP</th>\n",
       "      <th>FN</th>\n",
       "      <th>IoU</th>\n",
       "    </tr>\n",
       "  </thead>\n",
       "  <tbody>\n",
       "    <tr>\n",
       "      <th>0</th>\n",
       "      <td>0.100000</td>\n",
       "      <td>0.606184</td>\n",
       "      <td>0.319261</td>\n",
       "      <td>0.059095</td>\n",
       "      <td>0.015460</td>\n",
       "      <td>0.890479</td>\n",
       "    </tr>\n",
       "    <tr>\n",
       "      <th>1</th>\n",
       "      <td>0.111224</td>\n",
       "      <td>0.605555</td>\n",
       "      <td>0.321162</td>\n",
       "      <td>0.057194</td>\n",
       "      <td>0.016089</td>\n",
       "      <td>0.892046</td>\n",
       "    </tr>\n",
       "    <tr>\n",
       "      <th>2</th>\n",
       "      <td>0.122449</td>\n",
       "      <td>0.604966</td>\n",
       "      <td>0.322806</td>\n",
       "      <td>0.055550</td>\n",
       "      <td>0.016678</td>\n",
       "      <td>0.893342</td>\n",
       "    </tr>\n",
       "    <tr>\n",
       "      <th>3</th>\n",
       "      <td>0.133673</td>\n",
       "      <td>0.604408</td>\n",
       "      <td>0.324252</td>\n",
       "      <td>0.054103</td>\n",
       "      <td>0.017236</td>\n",
       "      <td>0.894429</td>\n",
       "    </tr>\n",
       "    <tr>\n",
       "      <th>4</th>\n",
       "      <td>0.144898</td>\n",
       "      <td>0.603878</td>\n",
       "      <td>0.325563</td>\n",
       "      <td>0.052793</td>\n",
       "      <td>0.017766</td>\n",
       "      <td>0.895381</td>\n",
       "    </tr>\n",
       "    <tr>\n",
       "      <th>5</th>\n",
       "      <td>0.156122</td>\n",
       "      <td>0.603371</td>\n",
       "      <td>0.326716</td>\n",
       "      <td>0.051640</td>\n",
       "      <td>0.018273</td>\n",
       "      <td>0.896162</td>\n",
       "    </tr>\n",
       "    <tr>\n",
       "      <th>6</th>\n",
       "      <td>0.167347</td>\n",
       "      <td>0.602881</td>\n",
       "      <td>0.327806</td>\n",
       "      <td>0.050550</td>\n",
       "      <td>0.018763</td>\n",
       "      <td>0.896886</td>\n",
       "    </tr>\n",
       "    <tr>\n",
       "      <th>7</th>\n",
       "      <td>0.178571</td>\n",
       "      <td>0.602401</td>\n",
       "      <td>0.328854</td>\n",
       "      <td>0.049502</td>\n",
       "      <td>0.019243</td>\n",
       "      <td>0.897571</td>\n",
       "    </tr>\n",
       "    <tr>\n",
       "      <th>8</th>\n",
       "      <td>0.189796</td>\n",
       "      <td>0.601927</td>\n",
       "      <td>0.329788</td>\n",
       "      <td>0.048568</td>\n",
       "      <td>0.019717</td>\n",
       "      <td>0.898114</td>\n",
       "    </tr>\n",
       "    <tr>\n",
       "      <th>9</th>\n",
       "      <td>0.201020</td>\n",
       "      <td>0.601456</td>\n",
       "      <td>0.330640</td>\n",
       "      <td>0.047716</td>\n",
       "      <td>0.020188</td>\n",
       "      <td>0.898554</td>\n",
       "    </tr>\n",
       "    <tr>\n",
       "      <th>10</th>\n",
       "      <td>0.212245</td>\n",
       "      <td>0.600989</td>\n",
       "      <td>0.331437</td>\n",
       "      <td>0.046919</td>\n",
       "      <td>0.020655</td>\n",
       "      <td>0.898926</td>\n",
       "    </tr>\n",
       "    <tr>\n",
       "      <th>11</th>\n",
       "      <td>0.223469</td>\n",
       "      <td>0.600535</td>\n",
       "      <td>0.332185</td>\n",
       "      <td>0.046171</td>\n",
       "      <td>0.021109</td>\n",
       "      <td>0.899254</td>\n",
       "    </tr>\n",
       "    <tr>\n",
       "      <th>12</th>\n",
       "      <td>0.234694</td>\n",
       "      <td>0.600096</td>\n",
       "      <td>0.332890</td>\n",
       "      <td>0.045466</td>\n",
       "      <td>0.021548</td>\n",
       "      <td>0.899546</td>\n",
       "    </tr>\n",
       "    <tr>\n",
       "      <th>13</th>\n",
       "      <td>0.245918</td>\n",
       "      <td>0.599671</td>\n",
       "      <td>0.333555</td>\n",
       "      <td>0.044801</td>\n",
       "      <td>0.021973</td>\n",
       "      <td>0.899805</td>\n",
       "    </tr>\n",
       "    <tr>\n",
       "      <th>14</th>\n",
       "      <td>0.257143</td>\n",
       "      <td>0.599256</td>\n",
       "      <td>0.334186</td>\n",
       "      <td>0.044170</td>\n",
       "      <td>0.022388</td>\n",
       "      <td>0.900035</td>\n",
       "    </tr>\n",
       "    <tr>\n",
       "      <th>15</th>\n",
       "      <td>0.268367</td>\n",
       "      <td>0.598849</td>\n",
       "      <td>0.334785</td>\n",
       "      <td>0.043571</td>\n",
       "      <td>0.022795</td>\n",
       "      <td>0.900234</td>\n",
       "    </tr>\n",
       "    <tr>\n",
       "      <th>16</th>\n",
       "      <td>0.279592</td>\n",
       "      <td>0.598449</td>\n",
       "      <td>0.335354</td>\n",
       "      <td>0.043002</td>\n",
       "      <td>0.023195</td>\n",
       "      <td>0.900403</td>\n",
       "    </tr>\n",
       "    <tr>\n",
       "      <th>17</th>\n",
       "      <td>0.290816</td>\n",
       "      <td>0.598051</td>\n",
       "      <td>0.335899</td>\n",
       "      <td>0.042457</td>\n",
       "      <td>0.023593</td>\n",
       "      <td>0.900542</td>\n",
       "    </tr>\n",
       "    <tr>\n",
       "      <th>18</th>\n",
       "      <td>0.302041</td>\n",
       "      <td>0.597653</td>\n",
       "      <td>0.336422</td>\n",
       "      <td>0.041934</td>\n",
       "      <td>0.023991</td>\n",
       "      <td>0.900653</td>\n",
       "    </tr>\n",
       "    <tr>\n",
       "      <th>19</th>\n",
       "      <td>0.313265</td>\n",
       "      <td>0.597258</td>\n",
       "      <td>0.336926</td>\n",
       "      <td>0.041430</td>\n",
       "      <td>0.024386</td>\n",
       "      <td>0.900741</td>\n",
       "    </tr>\n",
       "    <tr>\n",
       "      <th>20</th>\n",
       "      <td>0.324490</td>\n",
       "      <td>0.596863</td>\n",
       "      <td>0.337411</td>\n",
       "      <td>0.040945</td>\n",
       "      <td>0.024781</td>\n",
       "      <td>0.900805</td>\n",
       "    </tr>\n",
       "    <tr>\n",
       "      <th>21</th>\n",
       "      <td>0.335714</td>\n",
       "      <td>0.596468</td>\n",
       "      <td>0.337878</td>\n",
       "      <td>0.040478</td>\n",
       "      <td>0.025177</td>\n",
       "      <td>0.900843</td>\n",
       "    </tr>\n",
       "    <tr>\n",
       "      <th>22</th>\n",
       "      <td>0.346939</td>\n",
       "      <td>0.596071</td>\n",
       "      <td>0.338326</td>\n",
       "      <td>0.040030</td>\n",
       "      <td>0.025573</td>\n",
       "      <td>0.900853</td>\n",
       "    </tr>\n",
       "    <tr>\n",
       "      <th>23</th>\n",
       "      <td>0.358163</td>\n",
       "      <td>0.595679</td>\n",
       "      <td>0.338759</td>\n",
       "      <td>0.039597</td>\n",
       "      <td>0.025965</td>\n",
       "      <td>0.900850</td>\n",
       "    </tr>\n",
       "    <tr>\n",
       "      <th>24</th>\n",
       "      <td>0.369388</td>\n",
       "      <td>0.595297</td>\n",
       "      <td>0.339177</td>\n",
       "      <td>0.039179</td>\n",
       "      <td>0.026347</td>\n",
       "      <td>0.900841</td>\n",
       "    </tr>\n",
       "    <tr>\n",
       "      <th>25</th>\n",
       "      <td>0.380612</td>\n",
       "      <td>0.594925</td>\n",
       "      <td>0.339581</td>\n",
       "      <td>0.038775</td>\n",
       "      <td>0.026719</td>\n",
       "      <td>0.900829</td>\n",
       "    </tr>\n",
       "    <tr>\n",
       "      <th>26</th>\n",
       "      <td>0.391837</td>\n",
       "      <td>0.594562</td>\n",
       "      <td>0.339970</td>\n",
       "      <td>0.038386</td>\n",
       "      <td>0.027083</td>\n",
       "      <td>0.900810</td>\n",
       "    </tr>\n",
       "    <tr>\n",
       "      <th>27</th>\n",
       "      <td>0.403061</td>\n",
       "      <td>0.594205</td>\n",
       "      <td>0.340348</td>\n",
       "      <td>0.038008</td>\n",
       "      <td>0.027439</td>\n",
       "      <td>0.900786</td>\n",
       "    </tr>\n",
       "    <tr>\n",
       "      <th>28</th>\n",
       "      <td>0.414286</td>\n",
       "      <td>0.593857</td>\n",
       "      <td>0.340715</td>\n",
       "      <td>0.037641</td>\n",
       "      <td>0.027787</td>\n",
       "      <td>0.900759</td>\n",
       "    </tr>\n",
       "    <tr>\n",
       "      <th>29</th>\n",
       "      <td>0.425510</td>\n",
       "      <td>0.593514</td>\n",
       "      <td>0.341076</td>\n",
       "      <td>0.037279</td>\n",
       "      <td>0.028131</td>\n",
       "      <td>0.900732</td>\n",
       "    </tr>\n",
       "    <tr>\n",
       "      <th>30</th>\n",
       "      <td>0.436735</td>\n",
       "      <td>0.593175</td>\n",
       "      <td>0.341431</td>\n",
       "      <td>0.036925</td>\n",
       "      <td>0.028469</td>\n",
       "      <td>0.900702</td>\n",
       "    </tr>\n",
       "    <tr>\n",
       "      <th>31</th>\n",
       "      <td>0.447959</td>\n",
       "      <td>0.592840</td>\n",
       "      <td>0.341777</td>\n",
       "      <td>0.036579</td>\n",
       "      <td>0.028804</td>\n",
       "      <td>0.900668</td>\n",
       "    </tr>\n",
       "    <tr>\n",
       "      <th>32</th>\n",
       "      <td>0.459184</td>\n",
       "      <td>0.592507</td>\n",
       "      <td>0.342115</td>\n",
       "      <td>0.036240</td>\n",
       "      <td>0.029137</td>\n",
       "      <td>0.900624</td>\n",
       "    </tr>\n",
       "    <tr>\n",
       "      <th>33</th>\n",
       "      <td>0.470408</td>\n",
       "      <td>0.592175</td>\n",
       "      <td>0.342443</td>\n",
       "      <td>0.035913</td>\n",
       "      <td>0.029469</td>\n",
       "      <td>0.900568</td>\n",
       "    </tr>\n",
       "    <tr>\n",
       "      <th>34</th>\n",
       "      <td>0.481633</td>\n",
       "      <td>0.591844</td>\n",
       "      <td>0.342759</td>\n",
       "      <td>0.035597</td>\n",
       "      <td>0.029800</td>\n",
       "      <td>0.900498</td>\n",
       "    </tr>\n",
       "    <tr>\n",
       "      <th>35</th>\n",
       "      <td>0.492857</td>\n",
       "      <td>0.591513</td>\n",
       "      <td>0.343067</td>\n",
       "      <td>0.035289</td>\n",
       "      <td>0.030131</td>\n",
       "      <td>0.900416</td>\n",
       "    </tr>\n",
       "    <tr>\n",
       "      <th>36</th>\n",
       "      <td>0.504082</td>\n",
       "      <td>0.591180</td>\n",
       "      <td>0.343368</td>\n",
       "      <td>0.034988</td>\n",
       "      <td>0.030464</td>\n",
       "      <td>0.900321</td>\n",
       "    </tr>\n",
       "    <tr>\n",
       "      <th>37</th>\n",
       "      <td>0.515306</td>\n",
       "      <td>0.590843</td>\n",
       "      <td>0.343661</td>\n",
       "      <td>0.034695</td>\n",
       "      <td>0.030801</td>\n",
       "      <td>0.900209</td>\n",
       "    </tr>\n",
       "    <tr>\n",
       "      <th>38</th>\n",
       "      <td>0.526531</td>\n",
       "      <td>0.590500</td>\n",
       "      <td>0.343947</td>\n",
       "      <td>0.034409</td>\n",
       "      <td>0.031144</td>\n",
       "      <td>0.900080</td>\n",
       "    </tr>\n",
       "    <tr>\n",
       "      <th>39</th>\n",
       "      <td>0.537755</td>\n",
       "      <td>0.590148</td>\n",
       "      <td>0.344227</td>\n",
       "      <td>0.034129</td>\n",
       "      <td>0.031496</td>\n",
       "      <td>0.899928</td>\n",
       "    </tr>\n",
       "    <tr>\n",
       "      <th>40</th>\n",
       "      <td>0.548980</td>\n",
       "      <td>0.589780</td>\n",
       "      <td>0.344505</td>\n",
       "      <td>0.033851</td>\n",
       "      <td>0.031864</td>\n",
       "      <td>0.899746</td>\n",
       "    </tr>\n",
       "    <tr>\n",
       "      <th>41</th>\n",
       "      <td>0.560204</td>\n",
       "      <td>0.589397</td>\n",
       "      <td>0.344780</td>\n",
       "      <td>0.033576</td>\n",
       "      <td>0.032247</td>\n",
       "      <td>0.899541</td>\n",
       "    </tr>\n",
       "    <tr>\n",
       "      <th>42</th>\n",
       "      <td>0.571429</td>\n",
       "      <td>0.589014</td>\n",
       "      <td>0.345057</td>\n",
       "      <td>0.033299</td>\n",
       "      <td>0.032630</td>\n",
       "      <td>0.899337</td>\n",
       "    </tr>\n",
       "    <tr>\n",
       "      <th>43</th>\n",
       "      <td>0.582653</td>\n",
       "      <td>0.588626</td>\n",
       "      <td>0.345333</td>\n",
       "      <td>0.033022</td>\n",
       "      <td>0.033018</td>\n",
       "      <td>0.899124</td>\n",
       "    </tr>\n",
       "    <tr>\n",
       "      <th>44</th>\n",
       "      <td>0.593878</td>\n",
       "      <td>0.588233</td>\n",
       "      <td>0.345609</td>\n",
       "      <td>0.032747</td>\n",
       "      <td>0.033411</td>\n",
       "      <td>0.898902</td>\n",
       "    </tr>\n",
       "    <tr>\n",
       "      <th>45</th>\n",
       "      <td>0.605102</td>\n",
       "      <td>0.587834</td>\n",
       "      <td>0.345885</td>\n",
       "      <td>0.032471</td>\n",
       "      <td>0.033810</td>\n",
       "      <td>0.898672</td>\n",
       "    </tr>\n",
       "    <tr>\n",
       "      <th>46</th>\n",
       "      <td>0.616327</td>\n",
       "      <td>0.587430</td>\n",
       "      <td>0.346163</td>\n",
       "      <td>0.032193</td>\n",
       "      <td>0.034214</td>\n",
       "      <td>0.898435</td>\n",
       "    </tr>\n",
       "    <tr>\n",
       "      <th>47</th>\n",
       "      <td>0.627551</td>\n",
       "      <td>0.587017</td>\n",
       "      <td>0.346441</td>\n",
       "      <td>0.031915</td>\n",
       "      <td>0.034628</td>\n",
       "      <td>0.898184</td>\n",
       "    </tr>\n",
       "    <tr>\n",
       "      <th>48</th>\n",
       "      <td>0.638776</td>\n",
       "      <td>0.586589</td>\n",
       "      <td>0.346721</td>\n",
       "      <td>0.031635</td>\n",
       "      <td>0.035055</td>\n",
       "      <td>0.897915</td>\n",
       "    </tr>\n",
       "    <tr>\n",
       "      <th>49</th>\n",
       "      <td>0.650000</td>\n",
       "      <td>0.586153</td>\n",
       "      <td>0.347003</td>\n",
       "      <td>0.031353</td>\n",
       "      <td>0.035491</td>\n",
       "      <td>0.897635</td>\n",
       "    </tr>\n",
       "  </tbody>\n",
       "</table>\n",
       "</div>"
      ],
      "text/plain": [
       "    Unnamed: 0        TP        TN        FP        FN       IoU\n",
       "0     0.100000  0.606184  0.319261  0.059095  0.015460  0.890479\n",
       "1     0.111224  0.605555  0.321162  0.057194  0.016089  0.892046\n",
       "2     0.122449  0.604966  0.322806  0.055550  0.016678  0.893342\n",
       "3     0.133673  0.604408  0.324252  0.054103  0.017236  0.894429\n",
       "4     0.144898  0.603878  0.325563  0.052793  0.017766  0.895381\n",
       "5     0.156122  0.603371  0.326716  0.051640  0.018273  0.896162\n",
       "6     0.167347  0.602881  0.327806  0.050550  0.018763  0.896886\n",
       "7     0.178571  0.602401  0.328854  0.049502  0.019243  0.897571\n",
       "8     0.189796  0.601927  0.329788  0.048568  0.019717  0.898114\n",
       "9     0.201020  0.601456  0.330640  0.047716  0.020188  0.898554\n",
       "10    0.212245  0.600989  0.331437  0.046919  0.020655  0.898926\n",
       "11    0.223469  0.600535  0.332185  0.046171  0.021109  0.899254\n",
       "12    0.234694  0.600096  0.332890  0.045466  0.021548  0.899546\n",
       "13    0.245918  0.599671  0.333555  0.044801  0.021973  0.899805\n",
       "14    0.257143  0.599256  0.334186  0.044170  0.022388  0.900035\n",
       "15    0.268367  0.598849  0.334785  0.043571  0.022795  0.900234\n",
       "16    0.279592  0.598449  0.335354  0.043002  0.023195  0.900403\n",
       "17    0.290816  0.598051  0.335899  0.042457  0.023593  0.900542\n",
       "18    0.302041  0.597653  0.336422  0.041934  0.023991  0.900653\n",
       "19    0.313265  0.597258  0.336926  0.041430  0.024386  0.900741\n",
       "20    0.324490  0.596863  0.337411  0.040945  0.024781  0.900805\n",
       "21    0.335714  0.596468  0.337878  0.040478  0.025177  0.900843\n",
       "22    0.346939  0.596071  0.338326  0.040030  0.025573  0.900853\n",
       "23    0.358163  0.595679  0.338759  0.039597  0.025965  0.900850\n",
       "24    0.369388  0.595297  0.339177  0.039179  0.026347  0.900841\n",
       "25    0.380612  0.594925  0.339581  0.038775  0.026719  0.900829\n",
       "26    0.391837  0.594562  0.339970  0.038386  0.027083  0.900810\n",
       "27    0.403061  0.594205  0.340348  0.038008  0.027439  0.900786\n",
       "28    0.414286  0.593857  0.340715  0.037641  0.027787  0.900759\n",
       "29    0.425510  0.593514  0.341076  0.037279  0.028131  0.900732\n",
       "30    0.436735  0.593175  0.341431  0.036925  0.028469  0.900702\n",
       "31    0.447959  0.592840  0.341777  0.036579  0.028804  0.900668\n",
       "32    0.459184  0.592507  0.342115  0.036240  0.029137  0.900624\n",
       "33    0.470408  0.592175  0.342443  0.035913  0.029469  0.900568\n",
       "34    0.481633  0.591844  0.342759  0.035597  0.029800  0.900498\n",
       "35    0.492857  0.591513  0.343067  0.035289  0.030131  0.900416\n",
       "36    0.504082  0.591180  0.343368  0.034988  0.030464  0.900321\n",
       "37    0.515306  0.590843  0.343661  0.034695  0.030801  0.900209\n",
       "38    0.526531  0.590500  0.343947  0.034409  0.031144  0.900080\n",
       "39    0.537755  0.590148  0.344227  0.034129  0.031496  0.899928\n",
       "40    0.548980  0.589780  0.344505  0.033851  0.031864  0.899746\n",
       "41    0.560204  0.589397  0.344780  0.033576  0.032247  0.899541\n",
       "42    0.571429  0.589014  0.345057  0.033299  0.032630  0.899337\n",
       "43    0.582653  0.588626  0.345333  0.033022  0.033018  0.899124\n",
       "44    0.593878  0.588233  0.345609  0.032747  0.033411  0.898902\n",
       "45    0.605102  0.587834  0.345885  0.032471  0.033810  0.898672\n",
       "46    0.616327  0.587430  0.346163  0.032193  0.034214  0.898435\n",
       "47    0.627551  0.587017  0.346441  0.031915  0.034628  0.898184\n",
       "48    0.638776  0.586589  0.346721  0.031635  0.035055  0.897915\n",
       "49    0.650000  0.586153  0.347003  0.031353  0.035491  0.897635"
      ]
     },
     "execution_count": 29,
     "metadata": {},
     "output_type": "execute_result"
    }
   ],
   "source": [
    "df"
   ]
  },
  {
   "cell_type": "code",
   "execution_count": 30,
   "id": "725642d6-7a7b-4a25-8551-e75d3db52357",
   "metadata": {},
   "outputs": [
    {
     "data": {
      "text/html": [
       "<div>\n",
       "<style scoped>\n",
       "    .dataframe tbody tr th:only-of-type {\n",
       "        vertical-align: middle;\n",
       "    }\n",
       "\n",
       "    .dataframe tbody tr th {\n",
       "        vertical-align: top;\n",
       "    }\n",
       "\n",
       "    .dataframe thead th {\n",
       "        text-align: right;\n",
       "    }\n",
       "</style>\n",
       "<table border=\"1\" class=\"dataframe\">\n",
       "  <thead>\n",
       "    <tr style=\"text-align: right;\">\n",
       "      <th></th>\n",
       "      <th>Unnamed: 0</th>\n",
       "      <th>TP</th>\n",
       "      <th>TN</th>\n",
       "      <th>FP</th>\n",
       "      <th>FN</th>\n",
       "      <th>IoU</th>\n",
       "    </tr>\n",
       "  </thead>\n",
       "  <tbody>\n",
       "    <tr>\n",
       "      <th>22</th>\n",
       "      <td>0.346939</td>\n",
       "      <td>0.596071</td>\n",
       "      <td>0.338326</td>\n",
       "      <td>0.040030</td>\n",
       "      <td>0.025573</td>\n",
       "      <td>0.900853</td>\n",
       "    </tr>\n",
       "    <tr>\n",
       "      <th>23</th>\n",
       "      <td>0.358163</td>\n",
       "      <td>0.595679</td>\n",
       "      <td>0.338759</td>\n",
       "      <td>0.039597</td>\n",
       "      <td>0.025965</td>\n",
       "      <td>0.900850</td>\n",
       "    </tr>\n",
       "    <tr>\n",
       "      <th>21</th>\n",
       "      <td>0.335714</td>\n",
       "      <td>0.596468</td>\n",
       "      <td>0.337878</td>\n",
       "      <td>0.040478</td>\n",
       "      <td>0.025177</td>\n",
       "      <td>0.900843</td>\n",
       "    </tr>\n",
       "    <tr>\n",
       "      <th>24</th>\n",
       "      <td>0.369388</td>\n",
       "      <td>0.595297</td>\n",
       "      <td>0.339177</td>\n",
       "      <td>0.039179</td>\n",
       "      <td>0.026347</td>\n",
       "      <td>0.900841</td>\n",
       "    </tr>\n",
       "    <tr>\n",
       "      <th>25</th>\n",
       "      <td>0.380612</td>\n",
       "      <td>0.594925</td>\n",
       "      <td>0.339581</td>\n",
       "      <td>0.038775</td>\n",
       "      <td>0.026719</td>\n",
       "      <td>0.900829</td>\n",
       "    </tr>\n",
       "    <tr>\n",
       "      <th>26</th>\n",
       "      <td>0.391837</td>\n",
       "      <td>0.594562</td>\n",
       "      <td>0.339970</td>\n",
       "      <td>0.038386</td>\n",
       "      <td>0.027083</td>\n",
       "      <td>0.900810</td>\n",
       "    </tr>\n",
       "    <tr>\n",
       "      <th>20</th>\n",
       "      <td>0.324490</td>\n",
       "      <td>0.596863</td>\n",
       "      <td>0.337411</td>\n",
       "      <td>0.040945</td>\n",
       "      <td>0.024781</td>\n",
       "      <td>0.900805</td>\n",
       "    </tr>\n",
       "    <tr>\n",
       "      <th>27</th>\n",
       "      <td>0.403061</td>\n",
       "      <td>0.594205</td>\n",
       "      <td>0.340348</td>\n",
       "      <td>0.038008</td>\n",
       "      <td>0.027439</td>\n",
       "      <td>0.900786</td>\n",
       "    </tr>\n",
       "    <tr>\n",
       "      <th>28</th>\n",
       "      <td>0.414286</td>\n",
       "      <td>0.593857</td>\n",
       "      <td>0.340715</td>\n",
       "      <td>0.037641</td>\n",
       "      <td>0.027787</td>\n",
       "      <td>0.900759</td>\n",
       "    </tr>\n",
       "    <tr>\n",
       "      <th>19</th>\n",
       "      <td>0.313265</td>\n",
       "      <td>0.597258</td>\n",
       "      <td>0.336926</td>\n",
       "      <td>0.041430</td>\n",
       "      <td>0.024386</td>\n",
       "      <td>0.900741</td>\n",
       "    </tr>\n",
       "  </tbody>\n",
       "</table>\n",
       "</div>"
      ],
      "text/plain": [
       "    Unnamed: 0        TP        TN        FP        FN       IoU\n",
       "22    0.346939  0.596071  0.338326  0.040030  0.025573  0.900853\n",
       "23    0.358163  0.595679  0.338759  0.039597  0.025965  0.900850\n",
       "21    0.335714  0.596468  0.337878  0.040478  0.025177  0.900843\n",
       "24    0.369388  0.595297  0.339177  0.039179  0.026347  0.900841\n",
       "25    0.380612  0.594925  0.339581  0.038775  0.026719  0.900829\n",
       "26    0.391837  0.594562  0.339970  0.038386  0.027083  0.900810\n",
       "20    0.324490  0.596863  0.337411  0.040945  0.024781  0.900805\n",
       "27    0.403061  0.594205  0.340348  0.038008  0.027439  0.900786\n",
       "28    0.414286  0.593857  0.340715  0.037641  0.027787  0.900759\n",
       "19    0.313265  0.597258  0.336926  0.041430  0.024386  0.900741"
      ]
     },
     "execution_count": 30,
     "metadata": {},
     "output_type": "execute_result"
    }
   ],
   "source": [
    "df.sort_values('IoU', ascending=False).head(10)"
   ]
  },
  {
   "cell_type": "code",
   "execution_count": 31,
   "id": "be58dbb2-a04c-4bc8-819e-459106e88872",
   "metadata": {},
   "outputs": [
    {
     "data": {
      "text/html": [
       "<div>\n",
       "<style scoped>\n",
       "    .dataframe tbody tr th:only-of-type {\n",
       "        vertical-align: middle;\n",
       "    }\n",
       "\n",
       "    .dataframe tbody tr th {\n",
       "        vertical-align: top;\n",
       "    }\n",
       "\n",
       "    .dataframe thead th {\n",
       "        text-align: right;\n",
       "    }\n",
       "</style>\n",
       "<table border=\"1\" class=\"dataframe\">\n",
       "  <thead>\n",
       "    <tr style=\"text-align: right;\">\n",
       "      <th></th>\n",
       "      <th>Unnamed: 0</th>\n",
       "      <th>TP</th>\n",
       "      <th>TN</th>\n",
       "      <th>FP</th>\n",
       "      <th>FN</th>\n",
       "      <th>IoU</th>\n",
       "    </tr>\n",
       "  </thead>\n",
       "  <tbody>\n",
       "    <tr>\n",
       "      <th>22</th>\n",
       "      <td>0.346939</td>\n",
       "      <td>0.596071</td>\n",
       "      <td>0.338326</td>\n",
       "      <td>0.04003</td>\n",
       "      <td>0.025573</td>\n",
       "      <td>0.900853</td>\n",
       "    </tr>\n",
       "  </tbody>\n",
       "</table>\n",
       "</div>"
      ],
      "text/plain": [
       "    Unnamed: 0        TP        TN       FP        FN       IoU\n",
       "22    0.346939  0.596071  0.338326  0.04003  0.025573  0.900853"
      ]
     },
     "execution_count": 31,
     "metadata": {},
     "output_type": "execute_result"
    }
   ],
   "source": [
    "df.sort_values('IoU', ascending=False).head(1)"
   ]
  },
  {
   "cell_type": "code",
   "execution_count": null,
   "id": "0723bc36-7f05-4c1c-82d2-8d35f243e517",
   "metadata": {},
   "outputs": [],
   "source": []
  }
 ],
 "metadata": {
  "kernelspec": {
   "display_name": "Python 3 (ipykernel)",
   "language": "python",
   "name": "python3"
  },
  "language_info": {
   "codemirror_mode": {
    "name": "ipython",
    "version": 3
   },
   "file_extension": ".py",
   "mimetype": "text/x-python",
   "name": "python",
   "nbconvert_exporter": "python",
   "pygments_lexer": "ipython3",
   "version": "3.8.12"
  }
 },
 "nbformat": 4,
 "nbformat_minor": 5
}
